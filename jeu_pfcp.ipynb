{
 "cells": [
  {
   "attachments": {},
   "cell_type": "markdown",
   "metadata": {},
   "source": [
    "# Game rock, paper, scissor\n",
    "- Il nous faut le choix du joueur et le choix de l'ordinateur.\n",
    "- Il faut comparer les choix et mettre les conditions de gain \n",
    "\n",
    "# conditions de victoire\n",
    "Pierre casse ciseau\n",
    "feuille emballe la pierre\n",
    "ciseau coupe la feuille\n"
   ]
  },
  {
   "cell_type": "code",
   "execution_count": 1,
   "metadata": {},
   "outputs": [],
   "source": [
    "import random"
   ]
  },
  {
   "cell_type": "code",
   "execution_count": 13,
   "metadata": {},
   "outputs": [],
   "source": [
    "def get_choices():\n",
    "    choices_option = ['Pierre','feuille', 'ciseaux']\n",
    "    computer_choice = random.choice(choices_option)\n",
    "    player_choice = input(\"entrer votre choix parmis ces trois Pierre,feuille, ciseaux : \")\n",
    "    choices ={'player':player_choice, 'computer':computer_choice}\n",
    "    return choices\n",
    "\n",
    "def checkwin(computer_choice, player_choice): \n",
    "    if computer_choice == player_choice:\n",
    "        print(\"il ya égalité\")\n",
    "    elif computer_choice == 'Pierre' and player_choice =='ciseaux':\n",
    "        print(f'{computer_choice} casse {player_choice}, computer win')\n",
    "    elif computer_choice == 'Pierre' and player_choice =='feuille':\n",
    "        print(f'{computer_choice} est englouti par la {player_choice}, you win')\n",
    "    elif computer_choice == 'ciseaux' and player_choice =='Pierre':\n",
    "        print(f'{computer_choice} est cassé par {player_choice}, you win')\n",
    "    elif computer_choice == 'ciseaux' and player_choice =='feuille':\n",
    "        print(f'{computer_choice} coupe {player_choice}, computer win')\n",
    "    elif computer_choice == 'feuille' and player_choice =='Pierre':\n",
    "        print(f'{computer_choice} englouti {player_choice}, computer win')\n",
    "    elif computer_choice == 'feuille' and player_choice =='ciseaux':\n",
    "        print(f'{computer_choice} est coupée par {player_choice}, you win')\n",
    "    else :\n",
    "        print('try again motherfucker')\n",
    "        return\n",
    "\n",
    "    "
   ]
  },
  {
   "cell_type": "code",
   "execution_count": 20,
   "metadata": {},
   "outputs": [
    {
     "name": "stdout",
     "output_type": "stream",
     "text": [
      "try again motherfucker\n"
     ]
    }
   ],
   "source": [
    "resultat=get_choices()\n",
    "checkwin(resultat['computer'],resultat['player'])"
   ]
  },
  {
   "cell_type": "code",
   "execution_count": null,
   "metadata": {},
   "outputs": [],
   "source": []
  }
 ],
 "metadata": {
  "kernelspec": {
   "display_name": ".venv",
   "language": "python",
   "name": "python3"
  },
  "language_info": {
   "codemirror_mode": {
    "name": "ipython",
    "version": 3
   },
   "file_extension": ".py",
   "mimetype": "text/x-python",
   "name": "python",
   "nbconvert_exporter": "python",
   "pygments_lexer": "ipython3",
   "version": "3.10.11"
  },
  "orig_nbformat": 4
 },
 "nbformat": 4,
 "nbformat_minor": 2
}
